{
  "nbformat": 4,
  "nbformat_minor": 0,
  "metadata": {
    "colab": {
      "provenance": [],
      "authorship_tag": "ABX9TyOHTk0U6fRnnW3D2uXnXCvN",
      "include_colab_link": true
    },
    "kernelspec": {
      "name": "python3",
      "display_name": "Python 3"
    },
    "language_info": {
      "name": "python"
    }
  },
  "cells": [
    {
      "cell_type": "markdown",
      "metadata": {
        "id": "view-in-github",
        "colab_type": "text"
      },
      "source": [
        "<a href=\"https://colab.research.google.com/github/ane-schow/oceanografia/blob/main/pcolourmesh%20com%20contour%20foz%20amazona.ipynb\" target=\"_parent\"><img src=\"https://colab.research.google.com/assets/colab-badge.svg\" alt=\"Open In Colab\"/></a>"
      ]
    },
    {
      "cell_type": "markdown",
      "source": [
        "# Gráfico de temperatura visto de cima na foz do amazonas com contorno"
      ],
      "metadata": {
        "id": "QwtTQ8a0912o"
      }
    },
    {
      "cell_type": "code",
      "source": [
        "!sudo apt-get update -y\n",
        "!sudo apt-get install python3.11\n",
        "!sudo update-alternatives --install /usr/bin/python3 python3 /usr/bin/python3.11 1\n",
        "!sudo apt-get install python3.11-distutils\n",
        "!wget https://bootstrap.pypa.io/get-pip.py\n",
        "!python3.11 get-pip.py\n",
        "!python3 --version\n",
        "!python3.11 -m pip install cartopy"
      ],
      "metadata": {
        "collapsed": true,
        "id": "tZhdddIXEOTS"
      },
      "execution_count": null,
      "outputs": []
    },
    {
      "cell_type": "code",
      "execution_count": 19,
      "metadata": {
        "id": "K5XtAhNV9yzc"
      },
      "outputs": [],
      "source": [
        "\n",
        "import xarray as xr\n",
        "from IPython.display import display\n",
        "import matplotlib.pyplot as plt\n",
        "import cartopy.crs as ccrs\n",
        "import cartopy.feature as cfeature\n",
        "from cartopy.mpl.gridliner import LONGITUDE_FORMATTER, LATITUDE_FORMATTER\n",
        "import numpy as np"
      ]
    },
    {
      "cell_type": "code",
      "source": [
        "fn = '/content/thetao.nc'\n",
        "dataset = xr.open_dataset(fn)\n",
        "dataset.info()"
      ],
      "metadata": {
        "id": "1SySsklr-I_J"
      },
      "execution_count": null,
      "outputs": []
    },
    {
      "cell_type": "markdown",
      "source": [
        "Separar variáveis"
      ],
      "metadata": {
        "id": "C8l6bc-I-Mjn"
      }
    },
    {
      "cell_type": "code",
      "source": [
        "lat = dataset['latitude']\n",
        "long = dataset['longitude']\n",
        "profundidade = dataset['depth']\n",
        "idx = profundidade.where(profundidade<=50, drop=True)\n",
        "print(idx)\n",
        "T = dataset['thetao'].isel(time=slice(0,33), depth=slice(0, 51), latitude=slice(0, 223), longitude=slice(0, 214)).mean(dim='time')\n",
        "t_media = T.isel(depth=slice(0,19), latitude=slice(0, 223), longitude=slice(0, 214)).mean(dim='depth')\n",
        "display(t_media)"
      ],
      "metadata": {
        "id": "qoLdLwbp-MEj"
      },
      "execution_count": null,
      "outputs": []
    },
    {
      "cell_type": "markdown",
      "source": [
        "Plotar o gráfico"
      ],
      "metadata": {
        "id": "UqMKHP8I-blZ"
      }
    },
    {
      "cell_type": "code",
      "source": [
        "temperatura_media = t_media\n",
        "latitude = t_media['latitude']\n",
        "longitude = t_media['longitude']"
      ],
      "metadata": {
        "id": "qRu-ZrmQ-pkg"
      },
      "execution_count": 35,
      "outputs": []
    },
    {
      "cell_type": "code",
      "source": [
        "fig = plt.figure(figsize=(10, 10))\n",
        "ax = plt.axes(projection=ccrs.PlateCarree())\n",
        "\n",
        "pca = ax.pcolormesh(longitude,latitude,temperatura_media,transform=ccrs.PlateCarree(),cmap='plasma')\n",
        "cntr = ax.contour(longitude, latitude, temperatura_media, levels=17, transform=ccrs.PlateCarree(),linewidth=0.5, colors='w',alpha=0.8)\n",
        "ax.clabel(cntr, levels=cntr.levels[::3], colors='w', fontsize=8)\n",
        "\n",
        "c = plt.colorbar(pca, ax=ax)\n",
        "c.set_label('Temperatura média (C)')\n",
        "ax.add_feature(cfeature.LAND, color='k', alpha=0.8)\n",
        "ax.add_feature(cfeature.RIVERS.with_scale('10m'), edgecolor='aqua',alpha=0.65)\n",
        "\n",
        "gl = ax.gridlines(crs=ccrs.PlateCarree(),draw_labels=True, linewidth=0.5,color='gray',alpha=0.7, linestyle=':')\n",
        "gl.top_labels = False\n",
        "gl.right_labels = False\n",
        "gl.xformatter = LONGITUDE_FORMATTER\n",
        "gl.yformatter = LATITUDE_FORMATTER\n",
        "ax.set_title(\"Temperatura média da Foz do amazonas no período de 1 mês nos primeiros 50 metros de coluna d'água\")\n",
        "plt.show()"
      ],
      "metadata": {
        "id": "wfflNmLs-dsU"
      },
      "execution_count": null,
      "outputs": []
    }
  ]
}